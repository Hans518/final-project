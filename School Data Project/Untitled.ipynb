{
 "cells": [
  {
   "cell_type": "code",
   "execution_count": 1,
   "metadata": {},
   "outputs": [],
   "source": [
    "import matplotlib.pyplot as plt\n",
    "import numpy as np\n",
    "import pandas as pd\n",
    "import os\n",
    "import glob"
   ]
  },
  {
   "cell_type": "code",
   "execution_count": 2,
   "metadata": {},
   "outputs": [
    {
     "data": {
      "text/html": [
       "<div>\n",
       "<style scoped>\n",
       "    .dataframe tbody tr th:only-of-type {\n",
       "        vertical-align: middle;\n",
       "    }\n",
       "\n",
       "    .dataframe tbody tr th {\n",
       "        vertical-align: top;\n",
       "    }\n",
       "\n",
       "    .dataframe thead th {\n",
       "        text-align: right;\n",
       "    }\n",
       "</style>\n",
       "<table border=\"1\" class=\"dataframe\">\n",
       "  <thead>\n",
       "    <tr style=\"text-align: right;\">\n",
       "      <th></th>\n",
       "      <th>gender</th>\n",
       "      <th>race/ethnicity</th>\n",
       "      <th>parental level of education</th>\n",
       "      <th>lunch</th>\n",
       "      <th>test preparation course</th>\n",
       "      <th>math score</th>\n",
       "      <th>reading score</th>\n",
       "      <th>writing score</th>\n",
       "    </tr>\n",
       "  </thead>\n",
       "  <tbody>\n",
       "    <tr>\n",
       "      <th>0</th>\n",
       "      <td>male</td>\n",
       "      <td>group B</td>\n",
       "      <td>some college</td>\n",
       "      <td>free/reduced</td>\n",
       "      <td>completed</td>\n",
       "      <td>65</td>\n",
       "      <td>62</td>\n",
       "      <td>61</td>\n",
       "    </tr>\n",
       "    <tr>\n",
       "      <th>1</th>\n",
       "      <td>male</td>\n",
       "      <td>group D</td>\n",
       "      <td>bachelor's degree</td>\n",
       "      <td>standard</td>\n",
       "      <td>none</td>\n",
       "      <td>61</td>\n",
       "      <td>59</td>\n",
       "      <td>54</td>\n",
       "    </tr>\n",
       "    <tr>\n",
       "      <th>2</th>\n",
       "      <td>male</td>\n",
       "      <td>group A</td>\n",
       "      <td>some high school</td>\n",
       "      <td>standard</td>\n",
       "      <td>none</td>\n",
       "      <td>57</td>\n",
       "      <td>50</td>\n",
       "      <td>50</td>\n",
       "    </tr>\n",
       "    <tr>\n",
       "      <th>3</th>\n",
       "      <td>male</td>\n",
       "      <td>group C</td>\n",
       "      <td>bachelor's degree</td>\n",
       "      <td>free/reduced</td>\n",
       "      <td>none</td>\n",
       "      <td>63</td>\n",
       "      <td>64</td>\n",
       "      <td>56</td>\n",
       "    </tr>\n",
       "    <tr>\n",
       "      <th>4</th>\n",
       "      <td>female</td>\n",
       "      <td>group B</td>\n",
       "      <td>associate's degree</td>\n",
       "      <td>free/reduced</td>\n",
       "      <td>completed</td>\n",
       "      <td>57</td>\n",
       "      <td>87</td>\n",
       "      <td>82</td>\n",
       "    </tr>\n",
       "  </tbody>\n",
       "</table>\n",
       "</div>"
      ],
      "text/plain": [
       "   gender race/ethnicity parental level of education         lunch  \\\n",
       "0    male        group B                some college  free/reduced   \n",
       "1    male        group D           bachelor's degree      standard   \n",
       "2    male        group A            some high school      standard   \n",
       "3    male        group C           bachelor's degree  free/reduced   \n",
       "4  female        group B          associate's degree  free/reduced   \n",
       "\n",
       "  test preparation course  math score  reading score  writing score  \n",
       "0               completed          65             62             61  \n",
       "1                    none          61             59             54  \n",
       "2                    none          57             50             50  \n",
       "3                    none          63             64             56  \n",
       "4               completed          57             87             82  "
      ]
     },
     "execution_count": 2,
     "metadata": {},
     "output_type": "execute_result"
    }
   ],
   "source": [
    "stu_data = pd.read_csv('combined_csv.csv')\n",
    "stu_data.head()"
   ]
  },
  {
   "cell_type": "code",
   "execution_count": 4,
   "metadata": {},
   "outputs": [],
   "source": [
    "boys = stu_data.loc[stu_data['gender'] == 'male']\n",
    "girls = stu_data.loc[stu_data['gender'] == 'female']\n",
    "\n",
    "std_lunch = stu_data.loc[stu_data['lunch'] == 'standard']\n",
    "rdc_lunch = stu_data.loc[stu_data['lunch'] == 'free/reduced']\n",
    "\n",
    "prep_yes = stu_data.loc[stu_data['test preparation course'] == 'completed']\n",
    "prep_no = stu_data.loc[stu_data['test preparation course'] == 'none']"
   ]
  },
  {
   "cell_type": "code",
   "execution_count": 17,
   "metadata": {},
   "outputs": [
    {
     "data": {
      "image/png": "[encoded data removed]",
      "text/plain": [
       "<Figure size 432x288 with 1 Axes>"
      ]
     },
     "metadata": {
      "needs_background": "light"
     },
     "output_type": "display_data"
    }
   ],
   "source": [
    "labels = ['Girls - Math', 'Girls - Reading', 'Girls - Writing']\n",
    "girl_math = girls['math score'].mean()\n",
    "girl_reading = girls['reading score'].mean()\n",
    "girl_writing = girls['writing score'].mean()\n",
    "girl_scores = [girl_math, girl_reading, girl_writing]\n",
    "\n",
    "\n",
    "x_axis = np.arange(len(girl_scores))\n",
    "plt.bar(x_axis, girl_scores, color=\"r\", align=\"center\")\n",
    "tick_locations = [value for value in x_axis]\n",
    "width = 0.35\n",
    "plt.xticks(tick_locations, labels)\n",
    "plt.title(\"Mean Test Scores - Girls\")\n",
    "plt.xlabel(\"Subjects\")\n",
    "plt.ylabel(\"Average Score\")\n",
    "plt.show()"
   ]
  },
  {
   "cell_type": "code",
   "execution_count": 20,
   "metadata": {},
   "outputs": [
    {
     "data": {
      "image/png": "[encoded data removed]",
      "text/plain": [
       "<Figure size 432x288 with 1 Axes>"
      ]
     },
     "metadata": {
      "needs_background": "light"
     },
     "output_type": "display_data"
    }
   ],
   "source": [
    "labels = ['Boys - Math', 'Boys - Reading', 'Boys - Writing']\n",
    "boy_math = boys['math score'].mean()\n",
    "boy_reading = boys['reading score'].mean()\n",
    "boy_writing = boys['writing score'].mean()\n",
    "boy_scores = [boy_math, boy_reading, boy_writing]\n",
    "\n",
    "x_axis = np.arange(len(boy_scores))\n",
    "plt.bar(x_axis, boy_scores, color=\"b\", align=\"center\")\n",
    "tick_locations = [value for value in x_axis]\n",
    "width = 0.35\n",
    "plt.xticks(tick_locations, labels)\n",
    "plt.title(\"Mean Test Scores - Boys\")\n",
    "plt.xlabel(\"Subjects\")\n",
    "plt.ylabel(\"Average Score\")\n",
    "plt.show()"
   ]
  },
  {
   "cell_type": "code",
   "execution_count": null,
   "metadata": {},
   "outputs": [],
   "source": [
    "labels = ['Math', 'Reading', 'Writing']\n",
    "fig, ax = plt.subplots\n",
    "rects1 = ax.bar(x - width/2, boy_scores, width, label='Boys')\n",
    "rects2 = ax.bar(x + width/2, girl_scores, width, label='Girls')\n",
    "\n",
    "ax.set_"
   ]
  }
 ],
 "metadata": {
  "kernelspec": {
   "display_name": "Python 3",
   "language": "python",
   "name": "python3"
  },
  "language_info": {
   "codemirror_mode": {
    "name": "ipython",
    "version": 3
   },
   "file_extension": ".py",
   "mimetype": "text/x-python",
   "name": "python",
   "nbconvert_exporter": "python",
   "pygments_lexer": "ipython3",
   "version": "3.6.10"
  }
 },
 "nbformat": 4,
 "nbformat_minor": 4
}
